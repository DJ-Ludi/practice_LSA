{
 "cells": [
  {
   "cell_type": "code",
   "execution_count": 1,
   "metadata": {},
   "outputs": [],
   "source": [
    "import warnings\n",
    "warnings.filterwarnings('ignore')"
   ]
  },
  {
   "cell_type": "code",
   "execution_count": 3,
   "metadata": {},
   "outputs": [],
   "source": [
    "import numpy as np"
   ]
  },
  {
   "cell_type": "code",
   "execution_count": 4,
   "metadata": {},
   "outputs": [
    {
     "name": "stdout",
     "output_type": "stream",
     "text": [
      "[[1 2 3]\n",
      " [4 5 6]\n",
      " [7 8 9]]\n"
     ]
    }
   ],
   "source": [
    "A = np.array([[1, 2, 3], [4, 5, 6], [7, 8, 9]])\n",
    "print(A)"
   ]
  },
  {
   "cell_type": "code",
   "execution_count": 5,
   "metadata": {},
   "outputs": [
    {
     "data": {
      "text/plain": [
       "(array([ 1.61168440e+01, -1.11684397e+00, -1.30367773e-15]),\n",
       " array([[-0.23197069, -0.78583024,  0.40824829],\n",
       "        [-0.52532209, -0.08675134, -0.81649658],\n",
       "        [-0.8186735 ,  0.61232756,  0.40824829]]))"
      ]
     },
     "execution_count": 5,
     "metadata": {},
     "output_type": "execute_result"
    }
   ],
   "source": [
    "np.linalg.eig(A)"
   ]
  },
  {
   "cell_type": "code",
   "execution_count": 6,
   "metadata": {},
   "outputs": [],
   "source": [
    "eigen_val, eigen_vec = np.linalg.eig(A)"
   ]
  },
  {
   "cell_type": "code",
   "execution_count": 7,
   "metadata": {},
   "outputs": [
    {
     "data": {
      "text/plain": [
       "array([ 1.61168440e+01, -1.11684397e+00, -1.30367773e-15])"
      ]
     },
     "execution_count": 7,
     "metadata": {},
     "output_type": "execute_result"
    }
   ],
   "source": [
    "eigen_val"
   ]
  },
  {
   "cell_type": "code",
   "execution_count": 8,
   "metadata": {},
   "outputs": [
    {
     "data": {
      "text/plain": [
       "array([[-0.23197069, -0.78583024,  0.40824829],\n",
       "       [-0.52532209, -0.08675134, -0.81649658],\n",
       "       [-0.8186735 ,  0.61232756,  0.40824829]])"
      ]
     },
     "execution_count": 8,
     "metadata": {},
     "output_type": "execute_result"
    }
   ],
   "source": [
    "eigen_vec"
   ]
  },
  {
   "cell_type": "code",
   "execution_count": 10,
   "metadata": {},
   "outputs": [
    {
     "data": {
      "text/plain": [
       "array([[4, 0, 1],\n",
       "       [2, 3, 2],\n",
       "       [1, 0, 4]])"
      ]
     },
     "execution_count": 10,
     "metadata": {},
     "output_type": "execute_result"
    }
   ],
   "source": [
    "A = np.array([[4, 0, 1], [2, 3, 2], [1, 0, 4]])\n",
    "A"
   ]
  },
  {
   "cell_type": "code",
   "execution_count": 11,
   "metadata": {},
   "outputs": [],
   "source": [
    "eigen_val, eigen_vec = np.linalg.eig(A)"
   ]
  },
  {
   "cell_type": "code",
   "execution_count": 13,
   "metadata": {},
   "outputs": [
    {
     "data": {
      "text/plain": [
       "array([[ 0.        ,  0.40824829, -0.70710678],\n",
       "       [ 1.        ,  0.81649658,  0.        ],\n",
       "       [ 0.        ,  0.40824829,  0.70710678]])"
      ]
     },
     "execution_count": 13,
     "metadata": {},
     "output_type": "execute_result"
    }
   ],
   "source": [
    "eigen_vec"
   ]
  },
  {
   "cell_type": "code",
   "execution_count": 15,
   "metadata": {},
   "outputs": [],
   "source": [
    "A = np.array([[1,3],[4,2]])"
   ]
  },
  {
   "cell_type": "code",
   "execution_count": 16,
   "metadata": {},
   "outputs": [
    {
     "data": {
      "text/plain": [
       "array([[1, 3],\n",
       "       [4, 2]])"
      ]
     },
     "execution_count": 16,
     "metadata": {},
     "output_type": "execute_result"
    }
   ],
   "source": [
    "A"
   ]
  },
  {
   "cell_type": "code",
   "execution_count": 17,
   "metadata": {},
   "outputs": [],
   "source": [
    "eigen_val, eigen_vec = np.linalg.eig(A)"
   ]
  },
  {
   "cell_type": "code",
   "execution_count": 18,
   "metadata": {},
   "outputs": [
    {
     "data": {
      "text/plain": [
       "array([-2.,  5.])"
      ]
     },
     "execution_count": 18,
     "metadata": {},
     "output_type": "execute_result"
    }
   ],
   "source": [
    "eigen_val"
   ]
  },
  {
   "cell_type": "code",
   "execution_count": 20,
   "metadata": {},
   "outputs": [
    {
     "data": {
      "text/plain": [
       "array([[-0.70710678, -0.6       ],\n",
       "       [ 0.70710678, -0.8       ]])"
      ]
     },
     "execution_count": 20,
     "metadata": {},
     "output_type": "execute_result"
    }
   ],
   "source": [
    "eigen_vec"
   ]
  },
  {
   "cell_type": "code",
   "execution_count": 21,
   "metadata": {},
   "outputs": [
    {
     "data": {
      "text/plain": [
       "array([[0.5 , 0.36],\n",
       "       [0.5 , 0.64]])"
      ]
     },
     "execution_count": 21,
     "metadata": {},
     "output_type": "execute_result"
    }
   ],
   "source": [
    "eigen_vec ** 2"
   ]
  },
  {
   "cell_type": "code",
   "execution_count": 22,
   "metadata": {},
   "outputs": [],
   "source": [
    "A = np.array([[2,3],[2,1]])"
   ]
  },
  {
   "cell_type": "code",
   "execution_count": 23,
   "metadata": {},
   "outputs": [
    {
     "data": {
      "text/plain": [
       "array([[2, 3],\n",
       "       [2, 1]])"
      ]
     },
     "execution_count": 23,
     "metadata": {},
     "output_type": "execute_result"
    }
   ],
   "source": [
    "A"
   ]
  },
  {
   "cell_type": "code",
   "execution_count": 24,
   "metadata": {},
   "outputs": [],
   "source": [
    "eigen_val, eigen_vec = np.linalg.eig(A)"
   ]
  },
  {
   "cell_type": "code",
   "execution_count": 25,
   "metadata": {},
   "outputs": [
    {
     "data": {
      "text/plain": [
       "array([ 4., -1.])"
      ]
     },
     "execution_count": 25,
     "metadata": {},
     "output_type": "execute_result"
    }
   ],
   "source": [
    "eigen_val"
   ]
  },
  {
   "cell_type": "code",
   "execution_count": 26,
   "metadata": {},
   "outputs": [
    {
     "data": {
      "text/plain": [
       "array([[ 0.83205029, -0.70710678],\n",
       "       [ 0.5547002 ,  0.70710678]])"
      ]
     },
     "execution_count": 26,
     "metadata": {},
     "output_type": "execute_result"
    }
   ],
   "source": [
    "eigen_vec"
   ]
  },
  {
   "cell_type": "code",
   "execution_count": 27,
   "metadata": {},
   "outputs": [
    {
     "data": {
      "text/plain": [
       "array([1., 1.])"
      ]
     },
     "execution_count": 27,
     "metadata": {},
     "output_type": "execute_result"
    }
   ],
   "source": [
    "np.sum(eigen_vec ** 2, axis=0 )"
   ]
  },
  {
   "cell_type": "code",
   "execution_count": 34,
   "metadata": {},
   "outputs": [],
   "source": [
    "A = np.array([[1,2,3],[4,5,6],[7,8,9]])"
   ]
  },
  {
   "cell_type": "code",
   "execution_count": 35,
   "metadata": {},
   "outputs": [
    {
     "data": {
      "text/plain": [
       "array([[1, 2, 3],\n",
       "       [4, 5, 6],\n",
       "       [7, 8, 9]])"
      ]
     },
     "execution_count": 35,
     "metadata": {},
     "output_type": "execute_result"
    }
   ],
   "source": [
    "A"
   ]
  },
  {
   "cell_type": "code",
   "execution_count": 36,
   "metadata": {},
   "outputs": [],
   "source": [
    "B = np.array([[1],[2],[3]])"
   ]
  },
  {
   "cell_type": "code",
   "execution_count": 37,
   "metadata": {},
   "outputs": [
    {
     "data": {
      "text/plain": [
       "array([[1],\n",
       "       [2],\n",
       "       [3]])"
      ]
     },
     "execution_count": 37,
     "metadata": {},
     "output_type": "execute_result"
    }
   ],
   "source": [
    "B"
   ]
  },
  {
   "cell_type": "code",
   "execution_count": 38,
   "metadata": {},
   "outputs": [
    {
     "data": {
      "text/plain": [
       "array([[14],\n",
       "       [32],\n",
       "       [50]])"
      ]
     },
     "execution_count": 38,
     "metadata": {},
     "output_type": "execute_result"
    }
   ],
   "source": [
    "A.dot(B)"
   ]
  },
  {
   "cell_type": "code",
   "execution_count": 41,
   "metadata": {},
   "outputs": [],
   "source": [
    "example = [\n",
    "    \"Machine learning is super fun\",\n",
    "    \"Python is super, super cool\",\n",
    "    \"Statistics is cool, too\",\n",
    "    \"Data science is fun\",\n",
    "    \"Python is great for machine learning\",\n",
    "    \"I like football\",\n",
    "    \"Football is great to watch\"\n",
    "]"
   ]
  },
  {
   "cell_type": "code",
   "execution_count": 40,
   "metadata": {},
   "outputs": [],
   "source": [
    "# Matrix를 생성하기 위하여, index의 고정이 필요하고, 이를 위해서 순서를 정확히 보장하기 위해 OrderDict을 사용한다.\n",
    "from collections import OrderedDict\n",
    "\n",
    "corpus = OrderedDict(\n",
    "    {\n",
    "        'cool':0, \n",
    "        'data':1,\n",
    "        'football':2,\n",
    "        'fun':3,\n",
    "        'great':4,\n",
    "        'learning':5,\n",
    "        'like':6,\n",
    "        'machine':7,\n",
    "        'python':8,\n",
    "        'science':9,\n",
    "        'statistics':10,\n",
    "        'super':11,\n",
    "        'watch':12\n",
    "    }\n",
    ")"
   ]
  },
  {
   "cell_type": "code",
   "execution_count": 42,
   "metadata": {},
   "outputs": [],
   "source": [
    "d1 = \"Machine learning is super fun\"\n",
    "d2 = \"Python is super, super cool\"\n",
    "d3 = \"Statistics is cool, too\"\n",
    "d4 = \"Data science is fun\"\n",
    "d5 = \"Python is great for machine learning\"\n",
    "d6 = \"I like football\"\n",
    "d7 = \"Football is great to watch\"\n",
    "\n",
    "docs = [d1, d2, d3, d4, d5 , d6, d7]"
   ]
  },
  {
   "cell_type": "code",
   "execution_count": 44,
   "metadata": {},
   "outputs": [
    {
     "data": {
      "text/plain": [
       "['Machine', 'learning', 'is', 'super', 'fun']"
      ]
     },
     "execution_count": 44,
     "metadata": {},
     "output_type": "execute_result"
    }
   ],
   "source": [
    "# 각 문서를 빈 여백을 기준으로 나눈다.\n",
    "d1_tokens = d1.split(' ')\n",
    "d1_tokens"
   ]
  },
  {
   "cell_type": "code",
   "execution_count": 45,
   "metadata": {},
   "outputs": [
    {
     "data": {
      "text/plain": [
       "['machine', 'learning', 'is', 'super', 'fun']"
      ]
     },
     "execution_count": 45,
     "metadata": {},
     "output_type": "execute_result"
    }
   ],
   "source": [
    "d1_tokens = map(str.lower, d1_tokens)\n",
    "d1_tokens = list(d1_tokens)\n",
    "d1_tokens"
   ]
  },
  {
   "cell_type": "code",
   "execution_count": 46,
   "metadata": {},
   "outputs": [],
   "source": [
    "import re"
   ]
  },
  {
   "cell_type": "code",
   "execution_count": 51,
   "metadata": {},
   "outputs": [
    {
     "data": {
      "text/plain": [
       "['machine', 'learning', 'is', 'super', 'fun']"
      ]
     },
     "execution_count": 51,
     "metadata": {},
     "output_type": "execute_result"
    }
   ],
   "source": [
    "d1_tokens = [re.sub(r'[^a-zA-Z0-9-]', '', token) for token in d1_tokens]\n",
    "d1_tokens"
   ]
  },
  {
   "cell_type": "code",
   "execution_count": 52,
   "metadata": {},
   "outputs": [],
   "source": [
    "def parse_document(doc):\n",
    "    tokens = doc.split(' ')\n",
    "    tokens = map(str.lower, tokens)\n",
    "    tokens = list(tokens)\n",
    "    tokens = [re.sub(r'[^a-zA-Z0-9-]','', token) for token in tokens ]\n",
    "    \n",
    "    return tokens"
   ]
  },
  {
   "cell_type": "code",
   "execution_count": 55,
   "metadata": {},
   "outputs": [
    {
     "name": "stdout",
     "output_type": "stream",
     "text": [
      "['machine', 'learning', 'is', 'super', 'fun']\n",
      "['python', 'is', 'super', 'super', 'cool']\n",
      "['statistics', 'is', 'cool', 'too']\n",
      "['data', 'science', 'is', 'fun']\n",
      "['python', 'is', 'great', 'for', 'machine', 'learning']\n",
      "['i', 'like', 'football']\n",
      "['football', 'is', 'great', 'to', 'watch']\n"
     ]
    }
   ],
   "source": [
    "d2_tokens = parse_document(d2)\n",
    "d3_tokens = parse_document(d3)\n",
    "d4_tokens = parse_document(d4)\n",
    "d5_tokens = parse_document(d5)\n",
    "d6_tokens = parse_document(d6)\n",
    "d7_tokens = parse_document(d7)\n",
    "\n",
    "print(d1_tokens)\n",
    "print(d2_tokens)\n",
    "print(d3_tokens)\n",
    "print(d4_tokens)\n",
    "print(d5_tokens)\n",
    "print(d6_tokens)\n",
    "print(d7_tokens)"
   ]
  },
  {
   "cell_type": "code",
   "execution_count": 56,
   "metadata": {},
   "outputs": [
    {
     "name": "stdout",
     "output_type": "stream",
     "text": [
      "['machine', 'learning', 'is', 'super', 'fun']\n"
     ]
    }
   ],
   "source": [
    "print(d1_tokens)"
   ]
  },
  {
   "cell_type": "code",
   "execution_count": 57,
   "metadata": {},
   "outputs": [
    {
     "name": "stdout",
     "output_type": "stream",
     "text": [
      "cool 0\n",
      "data 1\n",
      "football 2\n",
      "fun 3\n",
      "great 4\n",
      "learning 5\n",
      "like 6\n",
      "machine 7\n",
      "python 8\n",
      "science 9\n",
      "statistics 10\n",
      "super 11\n",
      "watch 12\n"
     ]
    }
   ],
   "source": [
    "for v,i in corpus.items():\n",
    "    print(v,i)"
   ]
  },
  {
   "cell_type": "code",
   "execution_count": 58,
   "metadata": {},
   "outputs": [
    {
     "data": {
      "text/plain": [
       "odict_values([0, 1, 2, 3, 4, 5, 6, 7, 8, 9, 10, 11, 12])"
      ]
     },
     "execution_count": 58,
     "metadata": {},
     "output_type": "execute_result"
    }
   ],
   "source": [
    "corpus.values()"
   ]
  },
  {
   "cell_type": "code",
   "execution_count": 59,
   "metadata": {},
   "outputs": [
    {
     "data": {
      "text/plain": [
       "[0, 0, 0, 1, 0, 1, 0, 1, 0, 0, 0, 1, 0]"
      ]
     },
     "execution_count": 59,
     "metadata": {},
     "output_type": "execute_result"
    }
   ],
   "source": [
    "#d1 vector 생성\n",
    "d1_vec = []\n",
    "for v,i in corpus.items():\n",
    "    if v in d1_tokens:\n",
    "        d1_vec.append(1)\n",
    "    else:\n",
    "        d1_vec.append(0)\n",
    "d1_vec"
   ]
  },
  {
   "cell_type": "code",
   "execution_count": 60,
   "metadata": {},
   "outputs": [],
   "source": [
    "def get_doc_vector(tokens):\n",
    "    doc_vec = [1 if v in tokens else 0 for v,i in corpus.items()]\n",
    "    return doc_vec"
   ]
  },
  {
   "cell_type": "code",
   "execution_count": 62,
   "metadata": {},
   "outputs": [
    {
     "name": "stdout",
     "output_type": "stream",
     "text": [
      "[0, 0, 0, 1, 0, 1, 0, 1, 0, 0, 0, 1, 0]\n",
      "[1, 0, 0, 0, 0, 0, 0, 0, 1, 0, 0, 1, 0]\n",
      "[1, 0, 0, 0, 0, 0, 0, 0, 0, 0, 1, 0, 0]\n",
      "[0, 1, 0, 1, 0, 0, 0, 0, 0, 1, 0, 0, 0]\n",
      "[0, 0, 0, 0, 1, 1, 0, 1, 1, 0, 0, 0, 0]\n",
      "[0, 0, 1, 0, 0, 0, 1, 0, 0, 0, 0, 0, 0]\n",
      "[0, 0, 1, 0, 1, 0, 0, 0, 0, 0, 0, 0, 1]\n"
     ]
    }
   ],
   "source": [
    "d2_vec = get_doc_vector(d2_tokens)\n",
    "d3_vec = get_doc_vector(d3_tokens)\n",
    "d4_vec = get_doc_vector(d4_tokens)\n",
    "d5_vec = get_doc_vector(d5_tokens)\n",
    "d6_vec = get_doc_vector(d6_tokens)\n",
    "d7_vec = get_doc_vector(d7_tokens)\n",
    "\n",
    "print(d1_vec)\n",
    "print(d2_vec)\n",
    "print(d3_vec)\n",
    "print(d4_vec)\n",
    "print(d5_vec)\n",
    "print(d6_vec)\n",
    "print(d7_vec)"
   ]
  },
  {
   "cell_type": "code",
   "execution_count": 63,
   "metadata": {},
   "outputs": [
    {
     "data": {
      "text/plain": [
       "array([[0, 0, 0, 1, 0, 1, 0, 1, 0, 0, 0, 1, 0],\n",
       "       [1, 0, 0, 0, 0, 0, 0, 0, 1, 0, 0, 1, 0],\n",
       "       [1, 0, 0, 0, 0, 0, 0, 0, 0, 0, 1, 0, 0],\n",
       "       [0, 1, 0, 1, 0, 0, 0, 0, 0, 1, 0, 0, 0],\n",
       "       [0, 0, 0, 0, 1, 1, 0, 1, 1, 0, 0, 0, 0],\n",
       "       [0, 0, 1, 0, 0, 0, 1, 0, 0, 0, 0, 0, 0],\n",
       "       [0, 0, 1, 0, 1, 0, 0, 0, 0, 0, 0, 0, 1]])"
      ]
     },
     "execution_count": 63,
     "metadata": {},
     "output_type": "execute_result"
    }
   ],
   "source": [
    "#최종 matrix Word-Document matrix\n",
    "A = np.array([d1_vec, d2_vec, d3_vec, d4_vec, d5_vec, d6_vec, d7_vec])\n",
    "A"
   ]
  },
  {
   "cell_type": "code",
   "execution_count": 65,
   "metadata": {},
   "outputs": [
    {
     "data": {
      "text/plain": [
       "array([[0, 1, 1, 0, 0, 0, 0],\n",
       "       [0, 0, 0, 1, 0, 0, 0],\n",
       "       [0, 0, 0, 0, 0, 1, 1],\n",
       "       [1, 0, 0, 1, 0, 0, 0],\n",
       "       [0, 0, 0, 0, 1, 0, 1],\n",
       "       [1, 0, 0, 0, 1, 0, 0],\n",
       "       [0, 0, 0, 0, 0, 1, 0],\n",
       "       [1, 0, 0, 0, 1, 0, 0],\n",
       "       [0, 1, 0, 0, 1, 0, 0],\n",
       "       [0, 0, 0, 1, 0, 0, 0],\n",
       "       [0, 0, 1, 0, 0, 0, 0],\n",
       "       [1, 1, 0, 0, 0, 0, 0],\n",
       "       [0, 0, 0, 0, 0, 0, 1]])"
      ]
     },
     "execution_count": 65,
     "metadata": {},
     "output_type": "execute_result"
    }
   ],
   "source": [
    "A.T"
   ]
  },
  {
   "cell_type": "code",
   "execution_count": 64,
   "metadata": {},
   "outputs": [
    {
     "data": {
      "text/plain": [
       "array([[4, 1, 0, 1, 2, 0, 0],\n",
       "       [1, 3, 1, 0, 1, 0, 0],\n",
       "       [0, 1, 2, 0, 0, 0, 0],\n",
       "       [1, 0, 0, 3, 0, 0, 0],\n",
       "       [2, 1, 0, 0, 4, 0, 1],\n",
       "       [0, 0, 0, 0, 0, 2, 1],\n",
       "       [0, 0, 0, 0, 1, 1, 3]])"
      ]
     },
     "execution_count": 64,
     "metadata": {},
     "output_type": "execute_result"
    }
   ],
   "source": [
    "doc_mat = np.dot(A, A.T)\n",
    "doc_mat"
   ]
  },
  {
   "cell_type": "code",
   "execution_count": 66,
   "metadata": {},
   "outputs": [
    {
     "data": {
      "text/plain": [
       "array([[2, 0, 0, 0, 0, 0, 0, 0, 1, 0, 1, 1, 0],\n",
       "       [0, 1, 0, 1, 0, 0, 0, 0, 0, 1, 0, 0, 0],\n",
       "       [0, 0, 2, 0, 1, 0, 1, 0, 0, 0, 0, 0, 1],\n",
       "       [0, 1, 0, 2, 0, 1, 0, 1, 0, 1, 0, 1, 0],\n",
       "       [0, 0, 1, 0, 2, 1, 0, 1, 1, 0, 0, 0, 1],\n",
       "       [0, 0, 0, 1, 1, 2, 0, 2, 1, 0, 0, 1, 0],\n",
       "       [0, 0, 1, 0, 0, 0, 1, 0, 0, 0, 0, 0, 0],\n",
       "       [0, 0, 0, 1, 1, 2, 0, 2, 1, 0, 0, 1, 0],\n",
       "       [1, 0, 0, 0, 1, 1, 0, 1, 2, 0, 0, 1, 0],\n",
       "       [0, 1, 0, 1, 0, 0, 0, 0, 0, 1, 0, 0, 0],\n",
       "       [1, 0, 0, 0, 0, 0, 0, 0, 0, 0, 1, 0, 0],\n",
       "       [1, 0, 0, 1, 0, 1, 0, 1, 1, 0, 0, 2, 0],\n",
       "       [0, 0, 1, 0, 1, 0, 0, 0, 0, 0, 0, 0, 1]])"
      ]
     },
     "execution_count": 66,
     "metadata": {},
     "output_type": "execute_result"
    }
   ],
   "source": [
    "word_mat = np.dot(A.T, A)\n",
    "word_mat"
   ]
  },
  {
   "cell_type": "markdown",
   "metadata": {},
   "source": [
    "## SVD(Singular Value Decomposition)"
   ]
  },
  {
   "cell_type": "code",
   "execution_count": 67,
   "metadata": {},
   "outputs": [],
   "source": [
    "U, sig, V_T = np.linalg.svd(A)"
   ]
  },
  {
   "cell_type": "code",
   "execution_count": 69,
   "metadata": {
    "scrolled": true
   },
   "outputs": [
    {
     "data": {
      "text/plain": [
       "array([[-0.63555233,  0.3116475 , -0.23588417,  0.0923833 , -0.51003069,\n",
       "         0.29231986, -0.29864837],\n",
       "       [-0.35219853,  0.13826479,  0.61288984, -0.36051167, -0.04467366,\n",
       "        -0.56373943, -0.17730917],\n",
       "       [-0.07303416,  0.07324226,  0.43497297, -0.43325945,  0.1676411 ,\n",
       "         0.73984157,  0.19213866],\n",
       "       [-0.16627132,  0.35104399, -0.57669202, -0.55020151,  0.4027139 ,\n",
       "        -0.16590483,  0.155318  ],\n",
       "       [-0.63765049, -0.26214197,  0.05160136,  0.40140898,  0.39896807,\n",
       "        -0.03886768,  0.44744312],\n",
       "       [-0.03657726, -0.38783282, -0.12179755, -0.3522012 , -0.60221382,\n",
       "        -0.113457  ,  0.57778327],\n",
       "       [-0.17638947, -0.73214047, -0.17161637, -0.29306375,  0.16048032,\n",
       "         0.08645119, -0.53318928]])"
      ]
     },
     "execution_count": 69,
     "metadata": {},
     "output_type": "execute_result"
    }
   ],
   "source": [
    "U\n",
    "#U의 컬럼은 A*A^T의 고유벡터"
   ]
  },
  {
   "cell_type": "code",
   "execution_count": 70,
   "metadata": {
    "scrolled": true
   },
   "outputs": [
    {
     "data": {
      "text/plain": [
       "(array([6.82238103, 1.07718117, 1.23802682, 1.73351605, 3.88777334,\n",
       "        3.40902971, 2.83209187]),\n",
       " array([[ 0.63555233,  0.29864837, -0.29231986,  0.51003069, -0.3116475 ,\n",
       "          0.23588417, -0.0923833 ],\n",
       "        [ 0.35219853,  0.17730917,  0.56373943,  0.04467366, -0.13826479,\n",
       "         -0.61288984,  0.36051167],\n",
       "        [ 0.07303416, -0.19213866, -0.73984157, -0.1676411 , -0.07324226,\n",
       "         -0.43497297,  0.43325945],\n",
       "        [ 0.16627132, -0.155318  ,  0.16590483, -0.4027139 , -0.35104399,\n",
       "          0.57669202,  0.55020151],\n",
       "        [ 0.63765049, -0.44744312,  0.03886768, -0.39896807,  0.26214197,\n",
       "         -0.05160136, -0.40140898],\n",
       "        [ 0.03657726, -0.57778327,  0.113457  ,  0.60221382,  0.38783282,\n",
       "          0.12179755,  0.3522012 ],\n",
       "        [ 0.17638947,  0.53318928, -0.08645119, -0.16048032,  0.73214047,\n",
       "          0.17161637,  0.29306375]]))"
      ]
     },
     "execution_count": 70,
     "metadata": {},
     "output_type": "execute_result"
    }
   ],
   "source": [
    "np.linalg.eig(np.dot(A, A.T))"
   ]
  },
  {
   "cell_type": "code",
   "execution_count": 71,
   "metadata": {},
   "outputs": [
    {
     "data": {
      "text/plain": [
       "array([[-0.16280159,  0.10726903,  0.56753028, -0.47167366,  0.09339555,\n",
       "         0.15827037,  0.01428834, -0.11369133, -0.20704032,  0.03298642,\n",
       "        -0.46399237, -0.33237781,  0.02832841],\n",
       "       [-0.06365747,  0.17803733, -0.31234068, -0.32694004,  0.30586704,\n",
       "        -0.14910562,  0.14965023,  0.36329084, -0.49577965, -0.35164399,\n",
       "         0.26687418, -0.19166032, -0.11061159],\n",
       "       [-0.08153494, -0.56801159, -0.15891516, -0.38342851, -0.335503  ,\n",
       "        -0.02427125,  0.04296669,  0.21060964,  0.23009486,  0.06441144,\n",
       "        -0.04761734, -0.16005546, -0.50409511],\n",
       "       [-0.30698056,  0.33609413, -0.4400973 , -0.27204415, -0.08150866,\n",
       "         0.11361448, -0.13810005, -0.30264492,  0.40962447, -0.41313829,\n",
       "        -0.22319577,  0.043474  ,  0.06863482],\n",
       "       [-0.31165761, -0.50426555, -0.06500102,  0.06438076,  0.42490916,\n",
       "         0.04276529, -0.08261717, -0.31394715, -0.29811439, -0.13523936,\n",
       "        -0.1814318 ,  0.44723235, -0.11115103],\n",
       "       [-0.48744948,  0.02510749, -0.09980894,  0.29342062, -0.08435367,\n",
       "         0.22778809,  0.14336504, -0.37964684, -0.1478498 ,  0.19818597,\n",
       "         0.33701334, -0.491527  , -0.16032123],\n",
       "       [-0.01400371, -0.19669535, -0.06596646, -0.20928454, -0.45739012,\n",
       "        -0.10196856,  0.55669919, -0.21060964, -0.23009486, -0.06441144,\n",
       "         0.04761734,  0.16005546,  0.50409511],\n",
       "       [-0.48744948,  0.02510749, -0.09980894,  0.29342062, -0.08435367,\n",
       "         0.22778809,  0.14336504,  0.63109722, -0.0114254 ,  0.09249607,\n",
       "        -0.36669574,  0.07998492,  0.19574354],\n",
       "       [-0.37896663, -0.06282621,  0.35989337,  0.02430195,  0.26909174,\n",
       "        -0.54158824,  0.2602764 ,  0.06249678,  0.45738959, -0.15544268,\n",
       "         0.2111142 , -0.03569028,  0.07572872],\n",
       "       [-0.06365747,  0.17803733, -0.31234068, -0.32694004,  0.30586704,\n",
       "        -0.14910562,  0.14965023, -0.06064591,  0.08615518,  0.76478228,\n",
       "        -0.04367841,  0.14818633,  0.04197677],\n",
       "       [-0.02796134,  0.03714593,  0.23558459, -0.25745088,  0.12732584,\n",
       "         0.66492659,  0.18512726,  0.11369133,  0.20704032, -0.03298642,\n",
       "         0.46399237,  0.33237781, -0.02832841],\n",
       "       [-0.37816335,  0.2281799 ,  0.20418907, -0.15932689, -0.421306  ,\n",
       "        -0.24393613, -0.45858921,  0.05119455, -0.25034927,  0.12245626,\n",
       "         0.25287817,  0.36806808, -0.10405713],\n",
       "       [-0.06753123, -0.37131624, -0.0929487 , -0.17414397,  0.12188713,\n",
       "         0.0776973 , -0.51373249,  0.10333751,  0.06801952,  0.07082792,\n",
       "         0.22904914, -0.28717689,  0.61524614]])"
      ]
     },
     "execution_count": 71,
     "metadata": {},
     "output_type": "execute_result"
    }
   ],
   "source": [
    "# V의 각 컬럼은 A^T*A의 eigenvector 이다.\n",
    "V_T.T"
   ]
  },
  {
   "cell_type": "code",
   "execution_count": 72,
   "metadata": {},
   "outputs": [
    {
     "data": {
      "text/plain": [
       "(array([ 6.82238103e+00,  3.88777334e+00,  3.40902971e+00,  2.83209187e+00,\n",
       "         1.73351605e+00,  1.23802682e+00,  1.07718117e+00,  3.30386047e-16,\n",
       "        -2.63316082e-16, -5.72471417e-17, -5.34777366e-17,  6.74191007e-17,\n",
       "         3.73314395e-17]),\n",
       " array([[-0.16280159, -0.10726903, -0.56753028, -0.47167366, -0.09339555,\n",
       "         -0.15827037, -0.01428834, -0.03236432,  0.32034472, -0.36784343,\n",
       "          0.38961888,  0.09656258, -0.12870545],\n",
       "        [-0.06365747, -0.17803733,  0.31234068, -0.32694004, -0.30586704,\n",
       "          0.14910562, -0.14965023, -0.07758957,  0.51174806, -0.23916045,\n",
       "          0.21742052, -0.37027291,  0.14569015],\n",
       "        [-0.08153494,  0.56801159,  0.15891516, -0.38342851,  0.335503  ,\n",
       "          0.02427125, -0.04296669, -0.07423693, -0.19678338, -0.03496663,\n",
       "          0.0664231 , -0.39030914, -0.16681829],\n",
       "        [-0.30698056, -0.33609413,  0.4400973 , -0.27204415,  0.08150866,\n",
       "         -0.11361448,  0.13810005, -0.13349291, -0.43004937, -0.34481519,\n",
       "          0.34076151, -0.18797114,  0.08296711],\n",
       "        [-0.31165761,  0.50426555,  0.06500102,  0.06438076, -0.42490916,\n",
       "         -0.04276529,  0.08261717, -0.57552458, -0.02109311,  0.00769765,\n",
       "         -0.00939037,  0.04980682, -0.18597477],\n",
       "        [-0.48744948, -0.02510749,  0.09980894,  0.29342062,  0.08435367,\n",
       "         -0.22778809, -0.14336504,  0.09982413,  0.25014651, -0.20656133,\n",
       "          0.20382802,  0.18974715, -0.56644244],\n",
       "        [-0.01400371,  0.19669535,  0.06596646, -0.20928454,  0.45739012,\n",
       "          0.10196856, -0.55669919,  0.07423693,  0.19678338,  0.03496663,\n",
       "         -0.0664231 ,  0.39030914,  0.16681829],\n",
       "        [-0.48744948, -0.02510749,  0.09980894,  0.29342062,  0.08435367,\n",
       "         -0.22778809, -0.14336504,  0.23850245,  0.13559709,  0.19119838,\n",
       "         -0.17470415, -0.0723837 ,  0.55359354],\n",
       "        [-0.37896663,  0.06282621, -0.35989337,  0.02430195, -0.26909174,\n",
       "          0.54158824, -0.2602764 ,  0.23719799, -0.36465049,  0.00766529,\n",
       "         -0.0197335 , -0.16717027,  0.19882367],\n",
       "        [-0.06365747, -0.17803733,  0.31234068, -0.32694004, -0.30586704,\n",
       "          0.14910562, -0.14965023,  0.21108249, -0.08169869,  0.58397564,\n",
       "         -0.55818203,  0.55824406, -0.22865727],\n",
       "        [-0.02796134, -0.03714593, -0.23558459, -0.25745088, -0.12732584,\n",
       "         -0.66492659, -0.18512726,  0.03236432, -0.32034472,  0.36784343,\n",
       "         -0.38961888, -0.09656258,  0.12870545],\n",
       "        [-0.37816335, -0.2281799 , -0.20418907, -0.15932689,  0.421306  ,\n",
       "          0.24393613,  0.45858921, -0.20483367,  0.04430577,  0.36017814,\n",
       "         -0.36988538,  0.07060769, -0.07011821],\n",
       "        [-0.06753123,  0.37131624,  0.0929487 , -0.17414397, -0.12188713,\n",
       "         -0.0776973 ,  0.51373249,  0.6497615 ,  0.21787649,  0.02726898,\n",
       "         -0.05703273,  0.34050232,  0.35279306]]))"
      ]
     },
     "execution_count": 72,
     "metadata": {},
     "output_type": "execute_result"
    }
   ],
   "source": [
    "np.linalg.eig(np.dot(A.T, A))"
   ]
  },
  {
   "cell_type": "markdown",
   "metadata": {},
   "source": [
    "### Word Vectors"
   ]
  },
  {
   "cell_type": "code",
   "execution_count": 73,
   "metadata": {},
   "outputs": [],
   "source": [
    "word_eigen_val, word_eigen_vec = np.linalg.eig(np.dot(A.T,A))"
   ]
  },
  {
   "cell_type": "code",
   "execution_count": 75,
   "metadata": {},
   "outputs": [],
   "source": [
    "x = word_eigen_vec[:,0]"
   ]
  },
  {
   "cell_type": "code",
   "execution_count": 77,
   "metadata": {},
   "outputs": [],
   "source": [
    "y = word_eigen_vec[:,1]"
   ]
  },
  {
   "cell_type": "code",
   "execution_count": 78,
   "metadata": {},
   "outputs": [],
   "source": [
    "words = corpus.keys()"
   ]
  },
  {
   "cell_type": "code",
   "execution_count": 80,
   "metadata": {},
   "outputs": [
    {
     "data": {
      "text/plain": [
       "array([[-0.16280159, -0.10726903],\n",
       "       [-0.06365747, -0.17803733],\n",
       "       [-0.08153494,  0.56801159],\n",
       "       [-0.30698056, -0.33609413],\n",
       "       [-0.31165761,  0.50426555],\n",
       "       [-0.48744948, -0.02510749],\n",
       "       [-0.01400371,  0.19669535],\n",
       "       [-0.48744948, -0.02510749],\n",
       "       [-0.37896663,  0.06282621],\n",
       "       [-0.06365747, -0.17803733],\n",
       "       [-0.02796134, -0.03714593],\n",
       "       [-0.37816335, -0.2281799 ],\n",
       "       [-0.06753123,  0.37131624]])"
      ]
     },
     "execution_count": 80,
     "metadata": {},
     "output_type": "execute_result"
    }
   ],
   "source": [
    "# Word-Word matrix의 eigenvectors\n",
    "word_eigen_vec[:, :2]"
   ]
  },
  {
   "cell_type": "code",
   "execution_count": 82,
   "metadata": {},
   "outputs": [
    {
     "data": {
      "text/plain": [
       "array([2.61196880e+00, 1.97174373e+00, 1.84635579e+00, 1.68288201e+00,\n",
       "       1.31663057e+00, 1.11266654e+00, 1.03787339e+00, 1.81765246e-08,\n",
       "                  nan,            nan,            nan, 8.21091351e-09,\n",
       "       6.10994595e-09])"
      ]
     },
     "execution_count": 82,
     "metadata": {},
     "output_type": "execute_result"
    }
   ],
   "source": [
    "# Word-Word matrix의 eigenvalue의 root\n",
    "np.sqrt(word_eigen_val)"
   ]
  },
  {
   "cell_type": "code",
   "execution_count": 83,
   "metadata": {},
   "outputs": [
    {
     "data": {
      "text/plain": [
       "array([2.6119688 , 1.97174373, 1.84635579, 1.68288201, 1.31663057,\n",
       "       1.11266654, 1.03787339])"
      ]
     },
     "execution_count": 83,
     "metadata": {},
     "output_type": "execute_result"
    }
   ],
   "source": [
    "# Singular value\n",
    "sig"
   ]
  },
  {
   "cell_type": "code",
   "execution_count": 84,
   "metadata": {},
   "outputs": [],
   "source": [
    "word_vec = np.dot(np.diag(sig[:2]), word_eigen_vec[:, :2].T)"
   ]
  },
  {
   "cell_type": "code",
   "execution_count": 85,
   "metadata": {},
   "outputs": [
    {
     "data": {
      "text/plain": [
       "array([[-0.42523269, -0.21150705],\n",
       "       [-0.16627132, -0.35104399],\n",
       "       [-0.21296672,  1.11997329],\n",
       "       [-0.80182365, -0.66269149],\n",
       "       [-0.81403996,  0.99428243],\n",
       "       [-1.27320282, -0.04950553],\n",
       "       [-0.03657726,  0.38783282],\n",
       "       [-1.27320282, -0.04950553],\n",
       "       [-0.98984902,  0.12387718],\n",
       "       [-0.16627132, -0.35104399],\n",
       "       [-0.07303416, -0.07324226],\n",
       "       [-0.98775086, -0.44991228],\n",
       "       [-0.17638947,  0.73214047]])"
      ]
     },
     "execution_count": 85,
     "metadata": {},
     "output_type": "execute_result"
    }
   ],
   "source": [
    "word_vec.T"
   ]
  },
  {
   "cell_type": "code",
   "execution_count": 86,
   "metadata": {},
   "outputs": [],
   "source": [
    "w_x = word_vec[0]\n",
    "w_y = word_vec[1]"
   ]
  },
  {
   "cell_type": "code",
   "execution_count": 88,
   "metadata": {},
   "outputs": [
    {
     "data": {
      "image/png": "[encoded data removed]",
      "text/plain": [
       "<Figure size 576x576 with 1 Axes>"
      ]
     },
     "metadata": {
      "needs_background": "light"
     },
     "output_type": "display_data"
    }
   ],
   "source": [
    "import seaborn as sns\n",
    "import matplotlib.pyplot as plt\n",
    "import matplotlib as mpl\n",
    "\n",
    "mpl.rcParams['figure.figsize'] = (8, 8)\n",
    "\n",
    "fig, ax = plt.subplots()\n",
    "\n",
    "# Scatter\n",
    "ax.scatter(w_x, w_y, s=100)\n",
    "\n",
    "# Scatter에 라벨링을 한다.\n",
    "for i, txt in enumerate(words):\n",
    "    ax.annotate(txt, (w_x[i], w_y[i]), fontsize=20)"
   ]
  },
  {
   "cell_type": "code",
   "execution_count": 89,
   "metadata": {},
   "outputs": [],
   "source": [
    "doc_eigen_val, doc_eigen_vec = np.linalg.eig(np.dot(A, A.T))"
   ]
  },
  {
   "cell_type": "code",
   "execution_count": 90,
   "metadata": {},
   "outputs": [
    {
     "data": {
      "text/plain": [
       "array([[ 0.63555233,  0.29864837, -0.29231986,  0.51003069, -0.3116475 ,\n",
       "         0.23588417, -0.0923833 ],\n",
       "       [ 0.35219853,  0.17730917,  0.56373943,  0.04467366, -0.13826479,\n",
       "        -0.61288984,  0.36051167],\n",
       "       [ 0.07303416, -0.19213866, -0.73984157, -0.1676411 , -0.07324226,\n",
       "        -0.43497297,  0.43325945],\n",
       "       [ 0.16627132, -0.155318  ,  0.16590483, -0.4027139 , -0.35104399,\n",
       "         0.57669202,  0.55020151],\n",
       "       [ 0.63765049, -0.44744312,  0.03886768, -0.39896807,  0.26214197,\n",
       "        -0.05160136, -0.40140898],\n",
       "       [ 0.03657726, -0.57778327,  0.113457  ,  0.60221382,  0.38783282,\n",
       "         0.12179755,  0.3522012 ],\n",
       "       [ 0.17638947,  0.53318928, -0.08645119, -0.16048032,  0.73214047,\n",
       "         0.17161637,  0.29306375]])"
      ]
     },
     "execution_count": 90,
     "metadata": {},
     "output_type": "execute_result"
    }
   ],
   "source": [
    "# Doc-Doc matrix의 eigenvectors\n",
    "doc_eigen_vec"
   ]
  },
  {
   "cell_type": "code",
   "execution_count": 91,
   "metadata": {},
   "outputs": [
    {
     "data": {
      "text/plain": [
       "array([2.6119688 , 1.03787339, 1.11266654, 1.31663057, 1.97174373,\n",
       "       1.84635579, 1.68288201])"
      ]
     },
     "execution_count": 91,
     "metadata": {},
     "output_type": "execute_result"
    }
   ],
   "source": [
    "np.sqrt(doc_eigen_val)"
   ]
  },
  {
   "cell_type": "code",
   "execution_count": 92,
   "metadata": {},
   "outputs": [
    {
     "data": {
      "text/plain": [
       "array([2.6119688 , 1.97174373, 1.84635579, 1.68288201, 1.31663057,\n",
       "       1.11266654, 1.03787339])"
      ]
     },
     "execution_count": 92,
     "metadata": {},
     "output_type": "execute_result"
    }
   ],
   "source": [
    "sig"
   ]
  },
  {
   "cell_type": "code",
   "execution_count": 93,
   "metadata": {},
   "outputs": [],
   "source": [
    "# Sigular value가 weight로 사용된 doc vector\n",
    "doc_vec = np.dot(doc_eigen_vec[:, :2], np.diag(sig[:2]))"
   ]
  },
  {
   "cell_type": "code",
   "execution_count": 94,
   "metadata": {},
   "outputs": [
    {
     "data": {
      "text/plain": [
       "array([[ 1.66004286,  0.58885805],\n",
       "       [ 0.91993157,  0.34960825],\n",
       "       [ 0.19076294, -0.37884819],\n",
       "       [ 0.43429549, -0.30624728],\n",
       "       [ 1.6655232 , -0.88224317],\n",
       "       [ 0.09553865, -1.13924054],\n",
       "       [ 0.46072378,  1.05131263]])"
      ]
     },
     "execution_count": 94,
     "metadata": {},
     "output_type": "execute_result"
    }
   ],
   "source": [
    "doc_vec"
   ]
  },
  {
   "cell_type": "code",
   "execution_count": 95,
   "metadata": {},
   "outputs": [],
   "source": [
    "doc_x = doc_vec[:, 0]\n",
    "doc_y = doc_vec[:, 1]"
   ]
  },
  {
   "cell_type": "code",
   "execution_count": 96,
   "metadata": {},
   "outputs": [
    {
     "data": {
      "image/png": "[encoded data removed]",
      "text/plain": [
       "<Figure size 576x576 with 1 Axes>"
      ]
     },
     "metadata": {
      "needs_background": "light"
     },
     "output_type": "display_data"
    }
   ],
   "source": [
    "\n",
    "fig, ax = plt.subplots()\n",
    "\n",
    "# Scatter\n",
    "ax.scatter(doc_x, doc_y, marker='*', s=100)\n",
    "\n",
    "# Scatter에 라벨링을 한다.\n",
    "for i, txt in enumerate(['d1', 'd2', 'd3', 'd4', 'd5', 'd6', 'd7']):\n",
    "    ax.annotate(txt, (doc_x[i], doc_y[i]), fontsize=20)"
   ]
  },
  {
   "cell_type": "code",
   "execution_count": 97,
   "metadata": {},
   "outputs": [
    {
     "data": {
      "image/png": "[encoded data removed]",
      "text/plain": [
       "<Figure size 576x576 with 1 Axes>"
      ]
     },
     "metadata": {
      "needs_background": "light"
     },
     "output_type": "display_data"
    }
   ],
   "source": [
    "fig, ax = plt.subplots()\n",
    "ax.scatter(w_x, w_y, s=100)\n",
    "for i, txt in enumerate(words):\n",
    "    ax.annotate(txt, (w_x[i], w_y[i]), fontsize=20)\n",
    "    \n",
    "ax.scatter(doc_x, doc_y, marker='*', s=100)\n",
    "for i, txt in enumerate(['d1', 'd2', 'd3', 'd4', 'd5', 'd6', 'd7']):\n",
    "    ax.annotate(txt, (doc_x[i], doc_y[i]), fontsize=20)"
   ]
  },
  {
   "cell_type": "code",
   "execution_count": 99,
   "metadata": {},
   "outputs": [
    {
     "name": "stdout",
     "output_type": "stream",
     "text": [
      "football [-0.80182365 -0.66269149]\n",
      "great [-1.27320282 -0.04950553]\n"
     ]
    }
   ],
   "source": [
    "#쿼리\n",
    "q1 = word_vec[:,3]\n",
    "print('football', q1)\n",
    "\n",
    "q2 = word_vec[:,5]\n",
    "print('great', q2)"
   ]
  },
  {
   "cell_type": "code",
   "execution_count": 100,
   "metadata": {},
   "outputs": [
    {
     "name": "stdout",
     "output_type": "stream",
     "text": [
      "football and great : [-1.03751324 -0.35609851]\n"
     ]
    }
   ],
   "source": [
    "query = (q1 + q2) / 2\n",
    "print('football and great :', query)"
   ]
  },
  {
   "cell_type": "markdown",
   "metadata": {},
   "source": [
    "cosine similarity"
   ]
  },
  {
   "cell_type": "code",
   "execution_count": 108,
   "metadata": {},
   "outputs": [],
   "source": [
    "def get_consine_similarity(doc, query):\n",
    "    dot_prod = np.dot(doc, query)\n",
    "    len_doc = np.sqrt(sum(doc ** 2))\n",
    "    len_query = np.sqrt(sum(query ** 2))\n",
    "    \n",
    "    return dot_prod / (len_doc * len_query)"
   ]
  },
  {
   "cell_type": "code",
   "execution_count": 109,
   "metadata": {},
   "outputs": [],
   "source": [
    "result = {}\n",
    "for idx, doc in zip(docs, doc_vec):\n",
    "    result[get_consine_similarity(doc, query)] = idx"
   ]
  },
  {
   "cell_type": "code",
   "execution_count": 110,
   "metadata": {},
   "outputs": [
    {
     "data": {
      "text/plain": [
       "{-0.9999474402825544: 'Machine learning is super fun',\n",
       " -0.9994701406354748: 'Python is super, super cool',\n",
       " -0.13542857605814015: 'Statistics is cool, too',\n",
       " -0.5859012091077614: 'Data science is fun',\n",
       " -0.6838598820567358: 'Python is great for machine learning',\n",
       " 0.24445620995281275: 'I like football',\n",
       " -0.6769813331662141: 'Football is great to watch'}"
      ]
     },
     "execution_count": 110,
     "metadata": {},
     "output_type": "execute_result"
    }
   ],
   "source": [
    "result"
   ]
  },
  {
   "cell_type": "code",
   "execution_count": 111,
   "metadata": {},
   "outputs": [
    {
     "data": {
      "text/plain": [
       "[(0.24445620995281275, 'I like football'),\n",
       " (-0.13542857605814015, 'Statistics is cool, too'),\n",
       " (-0.5859012091077614, 'Data science is fun'),\n",
       " (-0.6769813331662141, 'Football is great to watch'),\n",
       " (-0.6838598820567358, 'Python is great for machine learning'),\n",
       " (-0.9994701406354748, 'Python is super, super cool'),\n",
       " (-0.9999474402825544, 'Machine learning is super fun')]"
      ]
     },
     "execution_count": 111,
     "metadata": {},
     "output_type": "execute_result"
    }
   ],
   "source": [
    "import operator\n",
    "\n",
    "sorted(result.items(), key=operator.itemgetter(0), reverse=True)"
   ]
  },
  {
   "cell_type": "code",
   "execution_count": 112,
   "metadata": {},
   "outputs": [
    {
     "data": {
      "text/plain": [
       "Text(-1.037513235541669, -0.3560985108342307, 'query')"
      ]
     },
     "execution_count": 112,
     "metadata": {},
     "output_type": "execute_result"
    },
    {
     "data": {
      "image/png": "[encoded data removed]",
      "text/plain": [
       "<Figure size 576x576 with 1 Axes>"
      ]
     },
     "metadata": {
      "needs_background": "light"
     },
     "output_type": "display_data"
    }
   ],
   "source": [
    "fig, ax = plt.subplots()\n",
    "ax.scatter(w_x, w_y, s=100)\n",
    "for i, txt in enumerate(words):\n",
    "    ax.annotate(txt, (w_x[i], w_y[i]), fontsize=20)\n",
    "    \n",
    "ax.scatter(doc_x, doc_y, marker='*', s=100)\n",
    "for i, txt in enumerate(['d1', 'd2', 'd3', 'd4', 'd5', 'd6', 'd7']):\n",
    "    ax.annotate(txt, (doc_x[i], doc_y[i]), fontsize=20)\n",
    "    \n",
    "ax.scatter(query[0], query[1], marker='v', s=200, color='red')\n",
    "ax.annotate('query', (query[0], query[1]), fontsize=20)"
   ]
  },
  {
   "cell_type": "code",
   "execution_count": null,
   "metadata": {},
   "outputs": [],
   "source": []
  },
  {
   "cell_type": "code",
   "execution_count": null,
   "metadata": {},
   "outputs": [],
   "source": []
  },
  {
   "cell_type": "code",
   "execution_count": null,
   "metadata": {},
   "outputs": [],
   "source": []
  },
  {
   "cell_type": "code",
   "execution_count": null,
   "metadata": {},
   "outputs": [],
   "source": []
  },
  {
   "cell_type": "code",
   "execution_count": null,
   "metadata": {},
   "outputs": [],
   "source": []
  },
  {
   "cell_type": "code",
   "execution_count": null,
   "metadata": {},
   "outputs": [],
   "source": []
  },
  {
   "cell_type": "code",
   "execution_count": null,
   "metadata": {},
   "outputs": [],
   "source": []
  },
  {
   "cell_type": "code",
   "execution_count": null,
   "metadata": {},
   "outputs": [],
   "source": []
  }
 ],
 "metadata": {
  "kernelspec": {
   "display_name": "Python 3",
   "language": "python",
   "name": "python3"
  },
  "language_info": {
   "codemirror_mode": {
    "name": "ipython",
    "version": 3
   },
   "file_extension": ".py",
   "mimetype": "text/x-python",
   "name": "python",
   "nbconvert_exporter": "python",
   "pygments_lexer": "ipython3",
   "version": "3.7.1"
  }
 },
 "nbformat": 4,
 "nbformat_minor": 2
}
